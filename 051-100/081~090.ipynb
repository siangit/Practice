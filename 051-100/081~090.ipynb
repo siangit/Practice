{
 "cells": [
  {
   "cell_type": "code",
   "execution_count": null,
   "metadata": {},
   "outputs": [],
   "source": [
    "\"\"\"star expressiond은 left&right variables 갯수가 달라도 \n",
    "unpacking 가능\"\"\"\n",
    "\n",
    "a, b, c = (0, 1, 2, 4, 5)"
   ]
  }
 ],
 "metadata": {
  "language_info": {
   "name": "python"
  }
 },
 "nbformat": 4,
 "nbformat_minor": 2
}
