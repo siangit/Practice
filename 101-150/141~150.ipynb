{
 "cells": [
  {
   "cell_type": "code",
   "execution_count": 6,
   "metadata": {},
   "outputs": [
    {
     "name": "stdout",
     "output_type": "stream",
     "text": [
      "110\n",
      "210\n",
      "310\n"
     ]
    }
   ],
   "source": [
    "list = [100, 200, 300]\n",
    "\n",
    "for i in list:\n",
    "    print(i+10)\n"
   ]
  },
  {
   "cell_type": "code",
   "execution_count": 7,
   "metadata": {},
   "outputs": [
    {
     "name": "stdout",
     "output_type": "stream",
     "text": [
      "오늘의 메뉴: 김밥\n",
      "오늘의 메뉴: 라면\n",
      "오늘의 메뉴: 튀김\n"
     ]
    }
   ],
   "source": [
    "리스트 = [\"김밥\", \"라면\", \"튀김\"]\n",
    "\n",
    "for i in 리스트:\n",
    "    print(f'오늘의 메뉴: {i}')\n",
    "    "
   ]
  },
  {
   "cell_type": "code",
   "execution_count": 8,
   "metadata": {},
   "outputs": [
    {
     "name": "stdout",
     "output_type": "stream",
     "text": [
      "6\n",
      "4\n",
      "4\n"
     ]
    }
   ],
   "source": [
    "리스트 = [\"SK하이닉스\", \"삼성전자\", \"LG전자\"]\n",
    "\n",
    "for i in 리스트:\n",
    "    print(len(i))"
   ]
  },
  {
   "cell_type": "code",
   "execution_count": 9,
   "metadata": {},
   "outputs": [
    {
     "name": "stdout",
     "output_type": "stream",
     "text": [
      "dog 3\n",
      "cat 3\n",
      "parrot 6\n"
     ]
    }
   ],
   "source": [
    "리스트 = ['dog', 'cat', 'parrot']\n",
    "for i in 리스트:\n",
    "    print(f'{i} {len(i)}')"
   ]
  },
  {
   "cell_type": "code",
   "execution_count": 15,
   "metadata": {},
   "outputs": [
    {
     "name": "stdout",
     "output_type": "stream",
     "text": [
      "d\n",
      "c\n",
      "p\n"
     ]
    }
   ],
   "source": [
    "리스트 = ['dog', 'cat', 'parrot']\n",
    "for i in 리스트:\n",
    "    print(i[0])"
   ]
  },
  {
   "cell_type": "code",
   "execution_count": 16,
   "metadata": {},
   "outputs": [
    {
     "name": "stdout",
     "output_type": "stream",
     "text": [
      "3 X 1\n",
      "3 X 2\n",
      "3 X 3\n"
     ]
    }
   ],
   "source": [
    "리스트 = [1, 2, 3]\n",
    "for i in 리스트:\n",
    "    print(f'3 X {i}')"
   ]
  },
  {
   "cell_type": "code",
   "execution_count": 17,
   "metadata": {},
   "outputs": [
    {
     "name": "stdout",
     "output_type": "stream",
     "text": [
      "3 x 1 = 3\n",
      "3 x 2 = 6\n",
      "3 x 3 = 9\n"
     ]
    }
   ],
   "source": [
    "리스트 = [1, 2, 3]\n",
    "for i in 리스트:\n",
    "    print(f'3 x {i} = {i*3}')"
   ]
  }
 ],
 "metadata": {
  "kernelspec": {
   "display_name": "Python 3",
   "language": "python",
   "name": "python3"
  },
  "language_info": {
   "codemirror_mode": {
    "name": "ipython",
    "version": 3
   },
   "file_extension": ".py",
   "mimetype": "text/x-python",
   "name": "python",
   "nbconvert_exporter": "python",
   "pygments_lexer": "ipython3",
   "version": "3.9.6"
  }
 },
 "nbformat": 4,
 "nbformat_minor": 2
}
