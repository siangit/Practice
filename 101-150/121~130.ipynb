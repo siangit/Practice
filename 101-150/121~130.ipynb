{
 "cells": [
  {
   "cell_type": "code",
   "execution_count": 4,
   "metadata": {},
   "outputs": [
    {
     "name": "stdout",
     "output_type": "stream",
     "text": [
      "False\n",
      "df\n"
     ]
    }
   ],
   "source": [
    "user = input()\n",
    "if user.islower():\n",
    "    print(\"True\")\n",
    "    print(user.upper())\n",
    "else:\n",
    "    print(\"False\")\n",
    "    print(user.lower())\n"
   ]
  },
  {
   "cell_type": "code",
   "execution_count": 5,
   "metadata": {},
   "outputs": [
    {
     "name": "stdout",
     "output_type": "stream",
     "text": [
      "A\n"
     ]
    }
   ],
   "source": [
    "score = int(input())\n",
    "if 80 < score <= 100:\n",
    "    print(\"A\")\n",
    "elif 60 < score <= 80:\n",
    "    print(\"B\")\n",
    "elif 40 < score <= 60:\n",
    "    print(\"C\")\n",
    "elif 20 < score <= 40:\n",
    "    print(\"D\")\n",
    "elif 0 < score <= 20:\n",
    "    print(\"E\")"
   ]
  },
  {
   "cell_type": "code",
   "execution_count": 10,
   "metadata": {},
   "outputs": [
    {
     "name": "stdout",
     "output_type": "stream",
     "text": [
      "['100', '달러']\n",
      "116700.0 원\n"
     ]
    }
   ],
   "source": [
    "#왼쪽에 오른쪽 것을 담는다.\n",
    "exchange = {\"달러\":1167,\"엔\":1.096,\"유로\":1268,\"위안\":171}\n",
    "user = input()\n",
    "num,currency=user.split()\n",
    "print(float(num) * exchange[currency], \"원\")\n",
    "\n"
   ]
  },
  {
   "cell_type": "code",
   "execution_count": 22,
   "metadata": {},
   "outputs": [
    {
     "name": "stdout",
     "output_type": "stream",
     "text": [
      "LGU\n"
     ]
    }
   ],
   "source": [
    "phone = {\"011\":\"SKT\",\"016\":\"KT\",\"019\":\"LGU\",\"010\":\"알수없음\"}\n",
    "phone_number = input()\n",
    "check,other,another = phone_number.split(\"-\")\n",
    "\n",
    "if check == \"011\":\n",
    "    print(phone.get(\"011\"))\n",
    "elif check == \"016\":\n",
    "    print(phone.get(\"016\"))\n",
    "elif check == \"019\":\n",
    "    print(phone.get(\"019\"))\n",
    "elif check == \"010\":\n",
    "    print(phone.get(\"010\"))"
   ]
  },
  {
   "cell_type": "code",
   "execution_count": 27,
   "metadata": {},
   "outputs": [
    {
     "name": "stdout",
     "output_type": "stream",
     "text": [
      "도봉구\n"
     ]
    }
   ],
   "source": [
    "강북구 = [\"010\", \"011\", \"012\"]\n",
    "도봉구= [\"013\", \"014\", \"015\"]\n",
    "노원구 = [\"017\", \"018\", \"019\"]\n",
    "\n",
    "user = input()\n",
    "\n",
    "if user[:3] in 강북구:\n",
    "    print(\"강북구\")\n",
    "elif user[:3] in 도봉구:\n",
    "    print(\"도봉구\")\n",
    "elif user[:3] in 노원구:\n",
    "    print(\"노원구\")"
   ]
  },
  {
   "cell_type": "code",
   "execution_count": 32,
   "metadata": {},
   "outputs": [
    {
     "name": "stdout",
     "output_type": "stream",
     "text": [
      "남자\n"
     ]
    }
   ],
   "source": [
    "user = input()\n",
    "앞자리, 뒷자리 = user.split(\"-\")\n",
    "\n",
    "if 뒷자리[0] == \"4\" or 뒷자리[0] == \"2\":\n",
    "    print(\"여자\")\n",
    "if 뒷자리[0] == \"1\" or 뒷자리[0] == \"3\":\n",
    "    print(\"남자\")"
   ]
  },
  {
   "cell_type": "code",
   "execution_count": 38,
   "metadata": {},
   "outputs": [
    {
     "name": "stdout",
     "output_type": "stream",
     "text": [
      "서울이 아닙니다\n"
     ]
    }
   ],
   "source": [
    "user = input()\n",
    "앞자리, 뒷자리 = user.split(\"-\")\n",
    "\n",
    "if int(뒷자리[1:3]) <= 8 :\n",
    "   print(\"서울입니다\")\n",
    "elif 8 < int(뒷자리[1:3]) < 13:\n",
    "   print(\"부산입니다\")\n",
    "else:\n",
    "   print(\"서울이 아닙니다\")"
   ]
  },
  {
   "cell_type": "code",
   "execution_count": 55,
   "metadata": {},
   "outputs": [
    {
     "ename": "TypeError",
     "evalue": "can only concatenate str (not \"int\") to str",
     "output_type": "error",
     "traceback": [
      "\u001b[0;31m---------------------------------------------------------------------------\u001b[0m",
      "\u001b[0;31mTypeError\u001b[0m                                 Traceback (most recent call last)",
      "Cell \u001b[0;32mIn[55], line 6\u001b[0m\n\u001b[1;32m      2\u001b[0m front,back \u001b[38;5;241m=\u001b[39m user\u001b[38;5;241m.\u001b[39msplit(\u001b[38;5;124m\"\u001b[39m\u001b[38;5;124m-\u001b[39m\u001b[38;5;124m\"\u001b[39m)\n\u001b[1;32m      5\u001b[0m \u001b[38;5;28;01mfor\u001b[39;00m i \u001b[38;5;129;01min\u001b[39;00m \u001b[38;5;28mrange\u001b[39m(\u001b[38;5;241m0\u001b[39m,\u001b[38;5;241m6\u001b[39m):\n\u001b[0;32m----> 6\u001b[0m     num1 \u001b[38;5;241m=\u001b[39m \u001b[43mfront\u001b[49m\u001b[43m[\u001b[49m\u001b[43mi\u001b[49m\u001b[43m]\u001b[49m\u001b[38;5;241;43m+\u001b[39;49m\u001b[43m(\u001b[49m\u001b[43mi\u001b[49m\u001b[38;5;241;43m+\u001b[39;49m\u001b[38;5;241;43m2\u001b[39;49m\u001b[43m)\u001b[49m\n\u001b[1;32m      7\u001b[0m     num2 \u001b[38;5;241m=\u001b[39m back[i]\u001b[38;5;241m*\u001b[39m(i\u001b[38;5;241m+\u001b[39m\u001b[38;5;241m2\u001b[39m)\n\u001b[1;32m      8\u001b[0m result\u001b[38;5;241m=\u001b[39m\u001b[38;5;241m11\u001b[39m\u001b[38;5;241m-\u001b[39m((num1\u001b[38;5;241m+\u001b[39mnum2)\u001b[38;5;241m%\u001b[39m\u001b[38;5;241m11\u001b[39m)\n",
      "\u001b[0;31mTypeError\u001b[0m: can only concatenate str (not \"int\") to str"
     ]
    }
   ],
   "source": [
    "user = \"950526-2852811\"\n",
    "front,back = user.split(\"-\")\n",
    "\n",
    "\n",
    "for i in range(0,6):\n",
    "    num1 = front[i]+(i+2)\n",
    "    num2 = back[i]*(i+2)\n",
    "result=11-((num1+num2)%11)"
   ]
  }
 ],
 "metadata": {
  "kernelspec": {
   "display_name": "Python 3",
   "language": "python",
   "name": "python3"
  },
  "language_info": {
   "codemirror_mode": {
    "name": "ipython",
    "version": 3
   },
   "file_extension": ".py",
   "mimetype": "text/x-python",
   "name": "python",
   "nbconvert_exporter": "python",
   "pygments_lexer": "ipython3",
   "version": "3.9.6"
  }
 },
 "nbformat": 4,
 "nbformat_minor": 2
}
